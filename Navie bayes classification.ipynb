{
 "cells": [
  {
   "cell_type": "code",
   "execution_count": 1,
   "metadata": {},
   "outputs": [
    {
     "name": "stdout",
     "output_type": "stream",
     "text": [
      "Predicted Illness: COVID\n"
     ]
    },
    {
     "name": "stderr",
     "output_type": "stream",
     "text": [
      "c:\\Users\\khana\\OneDrive\\Desktop\\GPU t est in Tensorflow\\.venv\\lib\\site-packages\\sklearn\\utils\\validation.py:2739: UserWarning: X does not have valid feature names, but CategoricalNB was fitted with feature names\n",
      "  warnings.warn(\n"
     ]
    }
   ],
   "source": [
    "import pandas as pd\n",
    "from sklearn.preprocessing import LabelEncoder\n",
    "from sklearn.naive_bayes import CategoricalNB\n",
    "\n",
    "# Step 1: Sample data\n",
    "data = {\n",
    "    'Cough': ['yes', 'yes', 'no', 'yes', 'no', 'yes', 'no', 'yes', 'no', 'no'],\n",
    "    'Fever': ['yes', 'yes', 'yes', 'yes', 'yes', 'no', 'yes', 'yes', 'no', 'yes'],\n",
    "    'Fatigue': ['yes', 'no', 'yes', 'yes', 'no', 'yes', 'yes', 'yes', 'yes', 'yes'],\n",
    "    'Illness': ['COVID', 'Flu', 'Fever', 'COVID', 'Fever', 'Flu', 'Fever', 'COVID', 'Flu', 'Fever']\n",
    "}\n",
    "\n",
    "df = pd.DataFrame(data)\n",
    "\n",
    "# Step 2: Encode text labels to numbers\n",
    "label_encoders = {}\n",
    "for column in df.columns:\n",
    "    le = LabelEncoder()\n",
    "    df[column] = le.fit_transform(df[column])\n",
    "    label_encoders[column] = le  # Save encoders for decoding later\n",
    "\n",
    "# Step 3: Features and label\n",
    "X = df[['Cough', 'Fever', 'Fatigue']]\n",
    "y = df['Illness']\n",
    "\n",
    "# Step 4: Train Naive Bayes model\n",
    "model = CategoricalNB()\n",
    "model.fit(X, y)\n",
    "\n",
    "# Step 5: Predict a new case (e.g. Cough=yes, Fever=yes, Fatigue=no)\n",
    "# Remember: 'yes' → 1, 'no' → 0 (from our label encoding)\n",
    "new_case = [[1, 1, 0]]  # A person with Cough=yes, Fever=yes, Fatigue=no\n",
    "prediction_encoded = model.predict(new_case)\n",
    "\n",
    "# Decode prediction back to original illness label\n",
    "predicted_illness = label_encoders['Illness'].inverse_transform(prediction_encoded)\n",
    "\n",
    "print(\"Predicted Illness:\", predicted_illness[0])\n"
   ]
  }
 ],
 "metadata": {
  "kernelspec": {
   "display_name": "Python (GPU)",
   "language": "python",
   "name": "gpu"
  },
  "language_info": {
   "codemirror_mode": {
    "name": "ipython",
    "version": 3
   },
   "file_extension": ".py",
   "mimetype": "text/x-python",
   "name": "python",
   "nbconvert_exporter": "python",
   "pygments_lexer": "ipython3",
   "version": "3.9.10"
  }
 },
 "nbformat": 4,
 "nbformat_minor": 2
}
